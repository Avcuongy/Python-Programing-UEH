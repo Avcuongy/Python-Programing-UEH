{
 "cells": [
  {
   "cell_type": "markdown",
   "id": "45c20b6a",
   "metadata": {},
   "source": [
    "# tuple"
   ]
  },
  {
   "cell_type": "code",
   "execution_count": 1,
   "id": "6c72bb84",
   "metadata": {},
   "outputs": [
    {
     "name": "stdout",
     "output_type": "stream",
     "text": [
      "30\n"
     ]
    }
   ],
   "source": [
    "numbers = (10, 20, 30, 40, 50)\n",
    "print(numbers[2])"
   ]
  },
  {
   "cell_type": "code",
   "execution_count": 2,
   "id": "440931b8",
   "metadata": {},
   "outputs": [
    {
     "name": "stdout",
     "output_type": "stream",
     "text": [
      "{2}\n"
     ]
    }
   ],
   "source": [
    "sample = (1, 2, 3, 2, 4, 2, 5)\n",
    "repeated = set([x for x in sample if sample.count(x) > 1])\n",
    "print(repeated)"
   ]
  },
  {
   "cell_type": "code",
   "execution_count": 3,
   "id": "406f0f56",
   "metadata": {},
   "outputs": [
    {
     "name": "stdout",
     "output_type": "stream",
     "text": [
      "2\n"
     ]
    }
   ],
   "source": [
    "data = (10, 20, 30, 40)\n",
    "print(data.index(30)) "
   ]
  },
  {
   "cell_type": "code",
   "execution_count": 4,
   "id": "0a034731",
   "metadata": {},
   "outputs": [
    {
     "name": "stdout",
     "output_type": "stream",
     "text": [
      "(1, 2, 3, 4)\n"
     ]
    }
   ],
   "source": [
    "original = (1, 2, 3)\n",
    "new_tuple = original + (4,)\n",
    "print(new_tuple)"
   ]
  },
  {
   "cell_type": "code",
   "execution_count": 5,
   "id": "df4da9a6",
   "metadata": {},
   "outputs": [
    {
     "name": "stdout",
     "output_type": "stream",
     "text": [
      "Alice 24 Engineer\n"
     ]
    }
   ],
   "source": [
    "person = (\"Alice\", 24, \"Engineer\")\n",
    "name, age, job = person\n",
    "print(name, age, job)"
   ]
  },
  {
   "cell_type": "markdown",
   "id": "701a319d",
   "metadata": {},
   "source": [
    "# set"
   ]
  },
  {
   "cell_type": "code",
   "execution_count": 6,
   "id": "558a9c85",
   "metadata": {},
   "outputs": [
    {
     "name": "stdout",
     "output_type": "stream",
     "text": [
      "Missing in set2: {1, 2}\n",
      "Missing in set1: {6, 7}\n"
     ]
    }
   ],
   "source": [
    "set1 = {1, 2, 3, 4, 5}\n",
    "set2 = {3, 4, 5, 6, 7}\n",
    "missing_in_set2 = set1 - set2\n",
    "missing_in_set1 = set2 - set1\n",
    "print(\"Missing in set2:\", missing_in_set2)\n",
    "print(\"Missing in set1:\", missing_in_set1)"
   ]
  },
  {
   "cell_type": "code",
   "execution_count": 7,
   "id": "4f4e6380",
   "metadata": {},
   "outputs": [
    {
     "name": "stdout",
     "output_type": "stream",
     "text": [
      "{'apple': 2, 'orange': 1, 'banana': 3}\n"
     ]
    }
   ],
   "source": [
    "words = [\"apple\", \"banana\", \"apple\", \"orange\", \"banana\", \"banana\"]\n",
    "unique_words = set(words)\n",
    "frequencies = {word: words.count(word) for word in unique_words}\n",
    "print(frequencies)"
   ]
  },
  {
   "cell_type": "code",
   "execution_count": 8,
   "id": "cea1ece1",
   "metadata": {},
   "outputs": [
    {
     "name": "stdout",
     "output_type": "stream",
     "text": [
      "True\n"
     ]
    }
   ],
   "source": [
    "a = {1, 2, 3}\n",
    "b = {4, 5, 6}\n",
    "print(a.isdisjoint(b))  "
   ]
  },
  {
   "cell_type": "code",
   "execution_count": null,
   "id": "d895c72f",
   "metadata": {},
   "outputs": [],
   "source": [
    "nums = {5, 1, 8, 3, 9}\n",
    "print(\"Max:\", max(nums))\n",
    "print(\"Min:\", min(nums))"
   ]
  },
  {
   "cell_type": "markdown",
   "id": "522c867d",
   "metadata": {},
   "source": [
    "# dictionary"
   ]
  },
  {
   "cell_type": "code",
   "execution_count": null,
   "id": "cc3690e0",
   "metadata": {},
   "outputs": [
    {
     "name": "stdout",
     "output_type": "stream",
     "text": [
      "{1: 2, 2: 3, 3: 5, 4: 7, 5: 11, 6: 13, 7: 17, 8: 19}\n"
     ]
    }
   ],
   "source": [
    "def is_prime(n):\n",
    "    if n < 2: \n",
    "        return False\n",
    "    for i in range(2, int(n**0.5)+1):\n",
    "        if n % i == 0: \n",
    "            return False\n",
    "    return True\n",
    "\n",
    "N = 20\n",
    "primes = [x for x in range(2, N) if is_prime(x)]\n",
    "prime_dict = {i+1: primes[i] for i in range(len(primes))}\n",
    "print(prime_dict)"
   ]
  },
  {
   "cell_type": "code",
   "execution_count": 10,
   "id": "fcc06f8d",
   "metadata": {},
   "outputs": [
    {
     "name": "stdout",
     "output_type": "stream",
     "text": [
      "{'h': 1, 'e': 1, 'l': 3, 'o': 2, 'w': 1, 'r': 1, 'd': 1}\n"
     ]
    }
   ],
   "source": [
    "text = \"hello world\"\n",
    "char_freq = {}\n",
    "for char in text:\n",
    "    if char != ' ':\n",
    "        char_freq[char] = char_freq.get(char, 0) + 1\n",
    "print(char_freq)"
   ]
  },
  {
   "cell_type": "code",
   "execution_count": 11,
   "id": "a91b0721",
   "metadata": {},
   "outputs": [
    {
     "name": "stdout",
     "output_type": "stream",
     "text": [
      "{'name': 'Mike', 'marks': {'math': 90, 'science': 95}}\n"
     ]
    }
   ],
   "source": [
    "student = {'name': 'Mike', 'marks': {'math': 90, 'science': 85}}\n",
    "student['marks']['science'] = 95\n",
    "print(student)"
   ]
  },
  {
   "cell_type": "code",
   "execution_count": 13,
   "id": "8b8ce455",
   "metadata": {},
   "outputs": [
    {
     "name": "stdout",
     "output_type": "stream",
     "text": [
      "history\n"
     ]
    }
   ],
   "source": [
    "scores = {'math': 88, 'science': 92, 'history': 78}\n",
    "min_key = min(scores, key=lambda k: scores[k])\n",
    "print(min_key)"
   ]
  },
  {
   "cell_type": "code",
   "execution_count": 14,
   "id": "e6ea9d56",
   "metadata": {},
   "outputs": [
    {
     "name": "stdout",
     "output_type": "stream",
     "text": [
      "{'age': 25, 'full_name': 'Alice'}\n"
     ]
    }
   ],
   "source": [
    "d = {'name': 'Alice', 'age': 25}\n",
    "d['full_name'] = d.pop('name')\n",
    "print(d)"
   ]
  },
  {
   "cell_type": "code",
   "execution_count": 15,
   "id": "17d3816b",
   "metadata": {},
   "outputs": [
    {
     "name": "stdout",
     "output_type": "stream",
     "text": [
      "True\n",
      "False\n"
     ]
    }
   ],
   "source": [
    "d = {'a': 10, 'b': 20}\n",
    "print(20 in d.values())  # True\n",
    "print(30 in d.values())  # False"
   ]
  },
  {
   "cell_type": "code",
   "execution_count": 16,
   "id": "9f6809d2",
   "metadata": {},
   "outputs": [
    {
     "name": "stdout",
     "output_type": "stream",
     "text": [
      "{'b': 2, 'd': 4}\n"
     ]
    }
   ],
   "source": [
    "sample = {'a': 1, 'b': 2, 'c': 3, 'd': 4}\n",
    "keys_to_remove = ['a', 'c']\n",
    "for key in keys_to_remove:\n",
    "    sample.pop(key, None)\n",
    "print(sample)"
   ]
  },
  {
   "cell_type": "code",
   "execution_count": 17,
   "id": "b57ee9bf",
   "metadata": {},
   "outputs": [
    {
     "name": "stdout",
     "output_type": "stream",
     "text": [
      "{'Alice': {'designation': 'Developer', 'salary': 8000}, 'Bob': {'designation': 'Developer', 'salary': 8000}}\n"
     ]
    }
   ],
   "source": [
    "employees = ['Alice', 'Bob']\n",
    "defaults = {\"designation\": 'Developer', \"salary\": 8000}\n",
    "employee_dict = {emp: defaults.copy() for emp in employees}\n",
    "print(employee_dict)"
   ]
  },
  {
   "cell_type": "code",
   "execution_count": 19,
   "id": "490b5879",
   "metadata": {},
   "outputs": [
    {
     "name": "stdout",
     "output_type": "stream",
     "text": [
      "{'a': 1, 'b': 2, 'c': 3, 'd': 4}\n"
     ]
    }
   ],
   "source": [
    "dict1 = {'a': 1, 'b': 2}\n",
    "dict2 = {'c': 3, 'd': 4}\n",
    "merged = {**dict1, **dict2}\n",
    "print(merged)"
   ]
  },
  {
   "cell_type": "code",
   "execution_count": 20,
   "id": "f3ad3292",
   "metadata": {},
   "outputs": [
    {
     "name": "stdout",
     "output_type": "stream",
     "text": [
      "{'name': 'Alice', 'age': 24, 'job': 'Engineer'}\n"
     ]
    }
   ],
   "source": [
    "keys = ['name', 'age', 'job']\n",
    "values = ['Alice', 24, 'Engineer']\n",
    "person_dict = dict(zip(keys, values))\n",
    "print(person_dict)"
   ]
  }
 ],
 "metadata": {
  "kernelspec": {
   "display_name": "Python 3",
   "language": "python",
   "name": "python3"
  },
  "language_info": {
   "codemirror_mode": {
    "name": "ipython",
    "version": 3
   },
   "file_extension": ".py",
   "mimetype": "text/x-python",
   "name": "python",
   "nbconvert_exporter": "python",
   "pygments_lexer": "ipython3",
   "version": "3.13.2"
  }
 },
 "nbformat": 4,
 "nbformat_minor": 5
}
